{
 "cells": [
  {
   "cell_type": "code",
   "execution_count": 1,
   "id": "bdbaebc0",
   "metadata": {},
   "outputs": [],
   "source": [
    "import numpy as np\n",
    "import pandas as pd\n",
    "\n",
    "import matplotlib.pyplot as plt\n",
    "\n",
    "from os import listdir\n",
    "from time import time\n",
    "\n",
    "from Algorithms.Functions.DE import DE\n",
    "from Algorithms.Functions.PSO import PSO\n",
    "\n",
    "from sklearn.model_selection import train_test_split \n",
    "from sklearn.metrics import mean_squared_error\n"
   ]
  },
  {
   "cell_type": "code",
   "execution_count": 2,
   "id": "08234de9",
   "metadata": {},
   "outputs": [
    {
     "data": {
      "text/html": [
       "<div>\n",
       "<style scoped>\n",
       "    .dataframe tbody tr th:only-of-type {\n",
       "        vertical-align: middle;\n",
       "    }\n",
       "\n",
       "    .dataframe tbody tr th {\n",
       "        vertical-align: top;\n",
       "    }\n",
       "\n",
       "    .dataframe thead th {\n",
       "        text-align: right;\n",
       "    }\n",
       "</style>\n",
       "<table border=\"1\" class=\"dataframe\">\n",
       "  <thead>\n",
       "    <tr style=\"text-align: right;\">\n",
       "      <th></th>\n",
       "      <th>y</th>\n",
       "      <th>x</th>\n",
       "    </tr>\n",
       "  </thead>\n",
       "  <tbody>\n",
       "    <tr>\n",
       "      <th>0</th>\n",
       "      <td>10.07</td>\n",
       "      <td>77.6</td>\n",
       "    </tr>\n",
       "    <tr>\n",
       "      <th>1</th>\n",
       "      <td>14.73</td>\n",
       "      <td>114.9</td>\n",
       "    </tr>\n",
       "    <tr>\n",
       "      <th>2</th>\n",
       "      <td>17.94</td>\n",
       "      <td>141.1</td>\n",
       "    </tr>\n",
       "    <tr>\n",
       "      <th>3</th>\n",
       "      <td>23.93</td>\n",
       "      <td>190.8</td>\n",
       "    </tr>\n",
       "    <tr>\n",
       "      <th>4</th>\n",
       "      <td>29.61</td>\n",
       "      <td>239.9</td>\n",
       "    </tr>\n",
       "    <tr>\n",
       "      <th>5</th>\n",
       "      <td>35.18</td>\n",
       "      <td>289.0</td>\n",
       "    </tr>\n",
       "    <tr>\n",
       "      <th>6</th>\n",
       "      <td>40.02</td>\n",
       "      <td>332.8</td>\n",
       "    </tr>\n",
       "    <tr>\n",
       "      <th>7</th>\n",
       "      <td>44.82</td>\n",
       "      <td>378.4</td>\n",
       "    </tr>\n",
       "    <tr>\n",
       "      <th>8</th>\n",
       "      <td>50.76</td>\n",
       "      <td>434.8</td>\n",
       "    </tr>\n",
       "    <tr>\n",
       "      <th>9</th>\n",
       "      <td>55.05</td>\n",
       "      <td>477.3</td>\n",
       "    </tr>\n",
       "    <tr>\n",
       "      <th>10</th>\n",
       "      <td>61.01</td>\n",
       "      <td>536.8</td>\n",
       "    </tr>\n",
       "    <tr>\n",
       "      <th>11</th>\n",
       "      <td>66.40</td>\n",
       "      <td>593.1</td>\n",
       "    </tr>\n",
       "    <tr>\n",
       "      <th>12</th>\n",
       "      <td>75.47</td>\n",
       "      <td>689.1</td>\n",
       "    </tr>\n",
       "    <tr>\n",
       "      <th>13</th>\n",
       "      <td>81.78</td>\n",
       "      <td>760.0</td>\n",
       "    </tr>\n",
       "  </tbody>\n",
       "</table>\n",
       "</div>"
      ],
      "text/plain": [
       "        y      x\n",
       "0   10.07   77.6\n",
       "1   14.73  114.9\n",
       "2   17.94  141.1\n",
       "3   23.93  190.8\n",
       "4   29.61  239.9\n",
       "5   35.18  289.0\n",
       "6   40.02  332.8\n",
       "7   44.82  378.4\n",
       "8   50.76  434.8\n",
       "9   55.05  477.3\n",
       "10  61.01  536.8\n",
       "11  66.40  593.1\n",
       "12  75.47  689.1\n",
       "13  81.78  760.0"
      ]
     },
     "execution_count": 2,
     "metadata": {},
     "output_type": "execute_result"
    }
   ],
   "source": [
    "\n",
    "path = \".\"\n",
    "lab_name = \"Lab6\"\n",
    "if lab_name in listdir(path):\n",
    "    path += \"/\" + lab_name\n",
    "    if \"Data\" in listdir(path):\n",
    "        path += \"/Data\"\n",
    "        datas_path = [path + \"/\" + data for data in listdir(path)]\n",
    "    else:\n",
    "        raise Exception(f\"Data directory in {lab_name} directory not found\")\n",
    "else:\n",
    "    raise Exception(f\"{lab_name} directory not found\")\n",
    "\n",
    "data = []\n",
    "lts = [9, 10, 11]\n",
    "lts = [10]\n",
    "for data_path in datas_path:\n",
    "    for i in lts:\n",
    "        data.append(pd.read_excel(data_path, sheet_name=f\"Var{i:02}\"))\n",
    "\n",
    "data = pd.concat(data)\n",
    "data.reset_index(drop=True, inplace=True)\n",
    "data"
   ]
  },
  {
   "cell_type": "code",
   "execution_count": 3,
   "id": "19cdda78",
   "metadata": {},
   "outputs": [
    {
     "data": {
      "text/plain": [
       "array([[ 10.07,  77.6 ],\n",
       "       [ 14.73, 114.9 ],\n",
       "       [ 17.94, 141.1 ],\n",
       "       [ 23.93, 190.8 ],\n",
       "       [ 29.61, 239.9 ],\n",
       "       [ 35.18, 289.  ],\n",
       "       [ 40.02, 332.8 ],\n",
       "       [ 44.82, 378.4 ],\n",
       "       [ 50.76, 434.8 ],\n",
       "       [ 55.05, 477.3 ],\n",
       "       [ 61.01, 536.8 ],\n",
       "       [ 66.4 , 593.1 ],\n",
       "       [ 75.47, 689.1 ],\n",
       "       [ 81.78, 760.  ]])"
      ]
     },
     "execution_count": 3,
     "metadata": {},
     "output_type": "execute_result"
    }
   ],
   "source": [
    "dat = data.to_numpy()\n",
    "dat"
   ]
  },
  {
   "cell_type": "code",
   "execution_count": 4,
   "id": "8af089e8",
   "metadata": {},
   "outputs": [
    {
     "data": {
      "text/plain": [
       "<matplotlib.collections.PathCollection at 0x2459e9647a0>"
      ]
     },
     "execution_count": 4,
     "metadata": {},
     "output_type": "execute_result"
    },
    {
     "data": {
      "image/png": "[encoded data removed]",
      "text/plain": [
       "<Figure size 640x480 with 1 Axes>"
      ]
     },
     "metadata": {},
     "output_type": "display_data"
    }
   ],
   "source": [
    "plt.scatter(dat[:, 1], dat[:, 0])"
   ]
  },
  {
   "cell_type": "code",
   "execution_count": 5,
   "id": "d0c124b9",
   "metadata": {},
   "outputs": [],
   "source": [
    "test, train = train_test_split(dat, test_size=0.25)"
   ]
  },
  {
   "cell_type": "code",
   "execution_count": 9,
   "id": "b8afc118",
   "metadata": {},
   "outputs": [
    {
     "name": "stderr",
     "output_type": "stream",
     "text": [
      "Processing: 100%|\u001b[36m████████████████████████████████████████\u001b[0m| 100/100 [00:01<00:00, 90.99step/s]\n"
     ]
    },
    {
     "data": {
      "image/png": "[encoded data removed]",
      "text/plain": [
       "<Figure size 800x600 with 2 Axes>"
      ]
     },
     "metadata": {},
     "output_type": "display_data"
    },
    {
     "name": "stdout",
     "output_type": "stream",
     "text": [
      "(np.float64(10.285184666699331), array([4.60873517e+02, 3.07917258e-04]))\n"
     ]
    }
   ],
   "source": [
    "def var9(X, dat):\n",
    "    b1, b2, b3, b4, b5 = X\n",
    "    return b1 + b2 * np.exp(-b4 * dat) + b3 * np.exp(-b5 * dat)\n",
    "\n",
    "def var10(X, dat):\n",
    "    b1, b2 = X\n",
    "    return b1 * (1 - 1/(np.sqrt(1 + 2 * b2 * dat)))\n",
    "\n",
    "def var11(X, dat):\n",
    "    b1, b2 = X\n",
    "    return (b1 * b2) / (1 + b2 * dat)\n",
    "\n",
    "def funct9(X):\n",
    "    return np.sum((dat[:, 0] - var9(X, dat[:, 1]))**2)\n",
    "\n",
    "def funct10(X):\n",
    "    return np.sum((dat[:, 0] - var10(X, dat[:, 1]))**2)\n",
    "\n",
    "def funct11(X):\n",
    "    return np.sum((dat[:, 0] - var11(X, dat[:, 1]))**2)\n",
    "\n",
    "funct9_limits = [[0, 10], [0, 5], *[[-2, 2] for _ in range(3)]]\n",
    "funct10_limits = [[100, 1000], [0, 1]]\n",
    "funct11_limits = [[100, 1000], [0, 1]]\n",
    "\n",
    "# de = DE(100, 100, funct9, funct9_limits, plot=True, d3=False, d2=False, static=True, inf=True)\n",
    "de = DE(100, 100, funct10, funct10_limits, plot=True, d3=False, d2=False, static=True, inf=True)\n",
    "# de = DE(100, 100, funct11, funct11_limits, plot=True, d3=False, d2=False, static=True, inf=True)\n",
    "print(de)"
   ]
  }
 ],
 "metadata": {
  "kernelspec": {
   "display_name": "Python 3",
   "language": "python",
   "name": "python3"
  },
  "language_info": {
   "codemirror_mode": {
    "name": "ipython",
    "version": 3
   },
   "file_extension": ".py",
   "mimetype": "text/x-python",
   "name": "python",
   "nbconvert_exporter": "python",
   "pygments_lexer": "ipython3",
   "version": "3.12.3"
  }
 },
 "nbformat": 4,
 "nbformat_minor": 5
}
