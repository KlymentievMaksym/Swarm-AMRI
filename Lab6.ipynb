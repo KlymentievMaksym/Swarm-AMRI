{
 "cells": [
  {
   "cell_type": "code",
   "execution_count": 1,
   "id": "bdbaebc0",
   "metadata": {},
   "outputs": [],
   "source": [
    "import numpy as np\n",
    "import pandas as pd\n",
    "\n",
    "import matplotlib.pyplot as plt\n",
    "\n",
    "from os import listdir\n",
    "from time import time\n",
    "\n",
    "from Algorithms.Functions.DE import DE\n",
    "from Algorithms.Functions.PSO import PSO\n",
    "\n",
    "from sklearn.model_selection import train_test_split \n",
    "from sklearn.metrics import mean_squared_error\n"
   ]
  },
  {
   "cell_type": "code",
   "execution_count": null,
   "id": "08234de9",
   "metadata": {},
   "outputs": [
    {
     "name": "stdout",
     "output_type": "stream",
     "text": [
      "       y      x\n",
      "0  10.07   77.6\n",
      "1  14.73  114.9\n",
      "2  17.94  141.1\n"
     ]
    },
    {
     "data": {
      "image/png": "[encoded data removed]",
      "text/plain": [
       "<Figure size 640x480 with 1 Axes>"
      ]
     },
     "metadata": {},
     "output_type": "display_data"
    },
    {
     "name": "stderr",
     "output_type": "stream",
     "text": [
      "Processing:  16%|\u001b[36m██████▍                                 \u001b[0m| 16/100 [00:20<00:37,  2.25step/s]"
     ]
    }
   ],
   "source": [
    "\n",
    "path = \".\"\n",
    "lab_name = \"Lab6\"\n",
    "if lab_name in listdir(path):\n",
    "    path += \"/\" + lab_name\n",
    "    if \"Data\" in listdir(path):\n",
    "        path += \"/Data\"\n",
    "        datas_path = [path + \"/\" + data for data in listdir(path)]\n",
    "    else:\n",
    "        raise Exception(f\"Data directory in {lab_name} directory not found\")\n",
    "else:\n",
    "    raise Exception(f\"{lab_name} directory not found\")\n",
    "\n",
    "def var9(X, dat):\n",
    "    b1, b2, b3, b4, b5 = X\n",
    "    return b1 + b2 * np.exp(-b4 * dat) + b3 * np.exp(-b5 * dat)\n",
    "\n",
    "def var10(X, dat):\n",
    "    b1, b2 = X\n",
    "    return b1 * (1 - 1/(np.sqrt(1 + 2 * b2 * dat)))\n",
    "\n",
    "def var11(X, dat):\n",
    "    b1, b2 = X\n",
    "    return (b1 * b2) / (1 + b2 * dat)\n",
    "\n",
    "lts = [9, 10, 11]\n",
    "lts = [11]\n",
    "for i in lts:\n",
    "    for data_path in datas_path:\n",
    "            data = pd.read_excel(data_path, sheet_name=f\"Var{i:02}\")\n",
    "            print(data.head(3))\n",
    "            dat = data.to_numpy()\n",
    "            plt.scatter(dat[:, 1], dat[:, 0])\n",
    "            plt.show()\n",
    "            test, train = train_test_split(dat, test_size=0.25)\n",
    "\n",
    "            def funct9(X):\n",
    "                return np.sum((dat[:, 0] - var9(X, dat[:, 1]))**2)\n",
    "\n",
    "            def funct10(X):\n",
    "                return np.sum((dat[:, 0] - var10(X, dat[:, 1]))**2)\n",
    "\n",
    "            def funct11(X):\n",
    "                return np.sum((dat[:, 0] - var11(X, dat[:, 1]))**2)\n",
    "\n",
    "            funct9_limits = [[0, 10], [0, 5], *[[-2, 2] for _ in range(3)]]\n",
    "            funct10_limits = [[100, 1000], [0, 1]]\n",
    "            funct11_limits = [[100, 1000], [0, 1]]\n",
    "\n",
    "            de = DE(100, 100, eval(f\"funct{i}\"), eval(f\"funct{i}_limits\"), plot=True, d3=False, d2=False, static=True, inf=True)\n",
    "            print(de)\n"
   ]
  }
 ],
 "metadata": {
  "kernelspec": {
   "display_name": "Python 3",
   "language": "python",
   "name": "python3"
  },
  "language_info": {
   "codemirror_mode": {
    "name": "ipython",
    "version": 3
   },
   "file_extension": ".py",
   "mimetype": "text/x-python",
   "name": "python",
   "nbconvert_exporter": "python",
   "pygments_lexer": "ipython3",
   "version": "3.12.3"
  }
 },
 "nbformat": 4,
 "nbformat_minor": 5
}
